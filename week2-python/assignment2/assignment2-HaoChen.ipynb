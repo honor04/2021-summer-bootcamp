def is_prime(n: int) -> bool:
    import math
    end : int = int(math.sqrt(n) + 1)
    if n == 2:
        return True
    elif n<= 0:
        return False
    else:
        for i in range(2,end):
            if n%i == 0:
                return False
            else:
                return True


# DO NOT ALTER BELOW.
assert is_prime(2)
assert not is_prime(15)
assert is_prime(7907)
assert not is_prime(-1)
assert not is_prime(0)