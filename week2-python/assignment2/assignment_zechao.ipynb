{
 "cells": [
  {
   "cell_type": "markdown",
   "metadata": {},
   "source": [
    "# 注意\n",
    "\n",
    "# Copy this file and rename assignment2-{first_name}.ipynb \n",
    "\n",
    "### 解题步骤\n",
    "\n",
    "* understand question and test case\n",
    "* check input\n",
    "* algorithm\n",
    "* check return\n"
   ]
  },
  {
   "cell_type": "code",
   "execution_count": 10,
   "metadata": {
    "scrolled": true
   },
   "outputs": [],
   "source": [
    "# Instruction: make sure your code pass the assertion statements\n",
    "\n",
    "# Q1. Given a positive integer N. The task is to write a Python program to check if the number is prime or not.\n",
    "def is_prime(n: int) -> bool:\n",
    "    if n < 2:\n",
    "        return False\n",
    "    i = 2\n",
    "    while i * i <= n:\n",
    "        if n % i == 0:\n",
    "            return False\n",
    "        i += 1\n",
    "    return True\n",
    "\n",
    "\n",
    "\n",
    "\n",
    "# DO NOT ALTER BELOW.\n",
    "assert is_prime(2)\n",
    "assert not is_prime(15)\n",
    "assert is_prime(7907)\n",
    "assert not is_prime(-1)\n",
    "assert not is_prime(0)"
   ]
  },
  {
   "cell_type": "code",
   "execution_count": null,
   "metadata": {},
   "outputs": [],
   "source": [
    "# Q2 Write a function rotate(ar[], d) that rotates arr[] of size n by d elements.\n",
    "# Input ar = [1,2,3,4,5,6,7], d = 2\n",
    "# Output [3,4,5,6,7,1,2]\n",
    "\n",
    "def rotate(ar: [int], d: int) -> [int]:\n",
    "    d = d % len(ar)\n",
    "    inplace_reverse(ar, 0, d - 1)\n",
    "    inplace_reverse(ar, d, len(ar) - 1)\n",
    "    inplace_reverse(ar, 0, len(ar) - 1)\n",
    "    return ar\n",
    "\n",
    "def inplace_reverse(ar: [int], start: int, end: int):\n",
    "    while start < end:\n",
    "        ar[start], ar[end] = ar[end], ar[start]\n",
    "        start += 1\n",
    "        end -= 1\n",
    "\n",
    "\n",
    "# DO NOT ALTER BELOW.\n",
    "assert rotate([1,2,3,4,5,6,7], 2) == [3,4,5,6,7,1,2]\n",
    "assert rotate([1,2,3], 4) == [2,3,1]"
   ]
  },
  {
   "cell_type": "code",
   "execution_count": null,
   "metadata": {},
   "outputs": [],
   "source": [
    "# Selection sort - implement a workable selection sort algorithm\n",
    "# https://www.runoob.com/w3cnote/selection-sort.html 作为参考\n",
    "# Input students would be a list of [student #, score], sort by score ascending order.\n",
    "\n",
    "def selection_sort(arr: list) -> list:\n",
    "    for i in range(len(arr) - 1):\n",
    "        min_index = i\n",
    "        for j in range(i + 1, len(arr)):\n",
    "            if arr[j][1] <= arr[min_index][1]:\n",
    "                min_index = j\n",
    "        if i != min_index:\n",
    "            arr[i], arr[min_index] = arr[min_index], arr[i]\n",
    "    return arr\n",
    "\n",
    "\n",
    "# DO NOT ALTER BELOW.\n",
    "assert selection_sort([]) == []\n",
    "assert selection_sort([[1, 100], [2, 70], [3, 95], [4, 66], [5, 98]]) == [[4, 66], [2, 70], [3, 95], [5, 98], [1, 100]]"
   ]
  },
  {
   "cell_type": "code",
   "execution_count": null,
   "metadata": {},
   "outputs": [],
   "source": [
    "# Q4. Convert a list of Tuples into Dictionary\n",
    "\n",
    "# tips: copy operation - copy by value, copy by reference\n",
    "\n",
    "def convert(tup: (any), di: {any, any}) -> None:\n",
    "    for i in range(0, len(tup), 2):\n",
    "        di[tup[i]] = tup[i + 1]\n",
    "    # Do NOT RETURN di, EDIT IN-PLACE\n",
    "    \n",
    "    \n",
    "# DO NOT ALTER BELOW.\n",
    "expected_dict = {}\n",
    "convert((), expected_dict)\n",
    "assert expected_dict == {}\n",
    "\n",
    "convert(('key1', 'val1', 'key2', 'val2'), expected_dict)\n",
    "assert expected_dict == {'key1': 'val1', 'key2': 'val2'} \n"
   ]
  },
  {
   "cell_type": "code",
   "execution_count": 6,
   "metadata": {},
   "outputs": [
    {
     "ename": "AssertionError",
     "evalue": "",
     "output_type": "error",
     "traceback": [
      "\u001b[0;31m---------------------------------------------------------------------------\u001b[0m",
      "\u001b[0;31mAssertionError\u001b[0m                            Traceback (most recent call last)",
      "\u001b[0;32m<ipython-input-6-2e21772bb9ad>\u001b[0m in \u001b[0;36m<module>\u001b[0;34m\u001b[0m\n\u001b[1;32m     23\u001b[0m \u001b[0;34m\u001b[0m\u001b[0m\n\u001b[1;32m     24\u001b[0m \u001b[0;32massert\u001b[0m \u001b[0mbsearch_slow\u001b[0m\u001b[0;34m(\u001b[0m\u001b[0mcreate_arr\u001b[0m\u001b[0;34m(\u001b[0m\u001b[0;36m10000\u001b[0m\u001b[0;34m,\u001b[0m \u001b[0;36m5\u001b[0m\u001b[0;34m)\u001b[0m\u001b[0;34m,\u001b[0m \u001b[0;36m5\u001b[0m\u001b[0;34m)\u001b[0m \u001b[0;34m==\u001b[0m \u001b[0;34m(\u001b[0m\u001b[0;36m0\u001b[0m\u001b[0;34m,\u001b[0m \u001b[0;36m9999\u001b[0m\u001b[0;34m)\u001b[0m\u001b[0;34m\u001b[0m\u001b[0;34m\u001b[0m\u001b[0m\n\u001b[0;32m---> 25\u001b[0;31m \u001b[0;32massert\u001b[0m \u001b[0mbsearch\u001b[0m\u001b[0;34m(\u001b[0m\u001b[0mcreate_arr\u001b[0m\u001b[0;34m(\u001b[0m\u001b[0;36m1000\u001b[0m\u001b[0;34m,\u001b[0m \u001b[0;36m5\u001b[0m\u001b[0;34m)\u001b[0m\u001b[0;34m,\u001b[0m \u001b[0;36m5\u001b[0m\u001b[0;34m)\u001b[0m \u001b[0;34m==\u001b[0m \u001b[0;34m(\u001b[0m\u001b[0;36m0\u001b[0m\u001b[0;34m,\u001b[0m \u001b[0;36m999\u001b[0m\u001b[0;34m)\u001b[0m\u001b[0;34m\u001b[0m\u001b[0;34m\u001b[0m\u001b[0m\n\u001b[0m\u001b[1;32m     26\u001b[0m \u001b[0;34m\u001b[0m\u001b[0m\n\u001b[1;32m     27\u001b[0m \u001b[0;32mimport\u001b[0m \u001b[0mtimeit\u001b[0m\u001b[0;34m\u001b[0m\u001b[0;34m\u001b[0m\u001b[0m\n",
      "\u001b[0;31mAssertionError\u001b[0m: "
     ]
    }
   ],
   "source": [
    "# Q5. Find left-most and right-most index for a target in a sorted array with duplicated items.\n",
    "# provided an example of slow version of bsearch_slow with O(n) time complecity. \n",
    "# your solution should be faster than bsearch_slow\n",
    "\n",
    "def bsearch_slow(arr: [int], target: int) -> (int):\n",
    "    left = -1\n",
    "    right = -1\n",
    "    for i in range(len(arr)):\n",
    "        if arr[i] == target and left == -1:\n",
    "            left = i\n",
    "        if arr[i] > target and left != -1 and right == -1:\n",
    "            right = i\n",
    "        if i == len(arr) - 1:\n",
    "            right = len(arr) - 1\n",
    "    return (left, right)\n",
    "\n",
    "def create_arr(count: int, dup: int) -> [int]:\n",
    "    return [dup for i in range(count)]\n",
    "        \n",
    "# Complete this    \n",
    "def bsearch(arr: [int], target: int) -> (int):\n",
    "    return (-1, -1)\n",
    "\n",
    "assert bsearch_slow(create_arr(10000, 5), 5) == (0, 9999)\n",
    "assert bsearch(create_arr(1000, 5), 5) == (0, 999)\n",
    "\n",
    "\n",
    "import timeit\n",
    "# slow version rnning 100 times = ? seconds\n",
    "timeit.timeit(lambda: bsearch_slow(create_arr(10000, 5), 5), number=100)\n",
    "# add your version and compare if faster.\n"
   ]
  },
  {
   "cell_type": "code",
   "execution_count": null,
   "metadata": {},
   "outputs": [],
   "source": [
    "# Q6. 为什么 Python dict 可以做到常数级别的查找效率，将答案写在 assignment2-{firstname}.ipynb"
   ]
  }
 ],
 "metadata": {
  "kernelspec": {
   "display_name": "Python 3",
   "language": "python",
   "name": "python3"
  },
  "language_info": {
   "codemirror_mode": {
    "name": "ipython",
    "version": 3
   },
   "file_extension": ".py",
   "mimetype": "text/x-python",
   "name": "python",
   "nbconvert_exporter": "python",
   "pygments_lexer": "ipython3",
   "version": "3.8.8"
  }
 },
 "nbformat": 4,
 "nbformat_minor": 4
}
